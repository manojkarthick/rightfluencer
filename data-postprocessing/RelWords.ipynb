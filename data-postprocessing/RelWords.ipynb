{
 "cells": [
  {
   "cell_type": "code",
   "execution_count": 40,
   "metadata": {},
   "outputs": [
    {
     "name": "stdout",
     "output_type": "stream",
     "text": [
      "['scent', 'fragrance', 'aroma', 'eau de cologne', 'odor']\n",
      "{'scent': 27.834515558681744, 'fragrance': 13.214626425598599, 'aroma': 12.422564547077243, 'eau de cologne': 7.431907616404564, 'odor': 6.6306220690614275}\n"
     ]
    }
   ],
   "source": [
    "import requests\n",
    "\n",
    "def get_top_related_words(product, num_top):\n",
    "    url = 'http://relatedwords.org/api/related?term={}'.format(product)\n",
    "\n",
    "    results = requests.get(url).json()\n",
    "    if len(results) > 1:\n",
    "        related_words = [result['word'] for result in results]\n",
    "    else:\n",
    "        print(\"No matches found...\")\n",
    "\n",
    "    top_related_words = related_words[:num_top]\n",
    "    return top_related_words\n",
    "\n",
    "def get_top_related_words_with_score(product, num_top):\n",
    "    url = 'http://relatedwords.org/api/related?term={}'.format(product)\n",
    "    score_dict = dict()\n",
    "    \n",
    "    results = requests.get(url).json()\n",
    "    if len(results) > 1:\n",
    "        for result in results:\n",
    "            if num_top == 0:\n",
    "                break\n",
    "            else:\n",
    "                score_dict[result['word']] = result['score']\n",
    "            num_top-=1   \n",
    "    else:\n",
    "        print(\"No matches found...\")\n",
    "\n",
    "    return score_dict\n",
    "\n",
    "\n",
    "product = 'perfume'\n",
    "num_top = 5\n",
    "\n",
    "print(get_top_related_words(product, num_top))\n",
    "print(get_top_related_words_with_score(product, num_top))"
   ]
  }
 ],
 "metadata": {
  "kernelspec": {
   "display_name": "Python 3",
   "language": "python",
   "name": "python3"
  },
  "language_info": {
   "codemirror_mode": {
    "name": "ipython",
    "version": 3
   },
   "file_extension": ".py",
   "mimetype": "text/x-python",
   "name": "python",
   "nbconvert_exporter": "python",
   "pygments_lexer": "ipython3",
   "version": "3.6.3"
  }
 },
 "nbformat": 4,
 "nbformat_minor": 2
}
