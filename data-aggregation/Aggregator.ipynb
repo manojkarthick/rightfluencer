{
 "cells": [
  {
   "cell_type": "code",
   "execution_count": null,
   "metadata": {
    "collapsed": true
   },
   "outputs": [],
   "source": [
    "import pandas as pd\n",
    "from functools import reduce\n",
    "\n",
    "pd.set_option('display.max_colwidth', -1)\n",
    "\n",
    "tw_df = pd.read_csv('influencers-project/data/twitter_influencers_details.csv', sep=';')\n",
    "ig_df = pd.read_csv('influencers-project/data/instagram_influencers_details.csv', sep=';')\n",
    "yt_df = pd.read_csv('influencers-project/data/youtube_influencers_details.csv', sep=';')\n",
    "kl_df = pd.read_csv('influencers-project/data/klout_influencers_details.csv', sep=';')\n",
    "fb_df = pd.read_csv('influencers-project/data/facebook_influencers_details.csv', sep=';')\n",
    "\n",
    "# print(tw_df.shape)\n",
    "# print(ig_df.shape)\n",
    "# print(yt_df.shape)\n",
    "# print(kl_df.shape)\n",
    "\n",
    "\n",
    "dfs = [fb_df, ig_df, yt_df, kl_df]\n",
    "df_final = reduce(lambda left,right: pd.merge(left,right,on='tw_handle', how='right'), dfs)\n",
    "# print(df_final.shape)\n",
    "# print(df_final.sample(5))\n",
    "\n",
    "\n",
    "df_final.to_csv('all_influencers_details.csv', sep=';', index=False)"
   ]
  },
  {
   "cell_type": "code",
   "execution_count": null,
   "metadata": {
    "collapsed": true
   },
   "outputs": [],
   "source": [
    "import pandas as pd\n",
    "from pymongo import MongoClient\n",
    "client = MongoClient('localhost', 27017)\n",
    "db = client.influencers_db\n",
    "collection = db.combined_collection\n",
    "\n",
    "df = pd.read_csv('all_influencers_details.csv', sep=';')\n",
    "records = df.to_dict(orient='records')\n",
    "\n",
    "result = collection.insert_many(records)"
   ]
  },
  {
   "cell_type": "code",
   "execution_count": null,
   "metadata": {
    "collapsed": true
   },
   "outputs": [],
   "source": [
    "db.test_coll.find_one({'tw_handle': 'MKBHD'})"
   ]
  },
  {
   "cell_type": "code",
   "execution_count": null,
   "metadata": {
    "collapsed": true
   },
   "outputs": [],
   "source": [
    "import json\n",
    "from os import listdir\n",
    "from os.path import isfile, join\n",
    "\n",
    "from pymongo import MongoClient\n",
    "client = MongoClient('localhost', 27017)\n",
    "db = client.test_database\n",
    "collection = db.twitter_collection\n",
    "\n",
    "path = '/Users/manojkarthick/Documents/Spring-18/CMPT-733/Project/twitter-data/'\n",
    "twitter_files = [f for f in listdir(path) if isfile(join(path, f))]\n",
    "twitter_files.remove('.DS_Store')\n",
    "\n",
    "for twitter_file in twitter_files:\n",
    "    file_name = join(path, twitter_file)\n",
    "    fp = open(file_name, 'r')\n",
    "    twitter_data = [line for line in fp.readlines()]\n",
    "    for data in twitter_data:\n",
    "        json_data = json.loads(data)\n",
    "        collection.insert_one(json_data)"
   ]
  },
  {
   "cell_type": "code",
   "execution_count": null,
   "metadata": {
    "collapsed": true
   },
   "outputs": [],
   "source": [
    "import json\n",
    "from os import listdir\n",
    "from os.path import isfile, join\n",
    "from pymongo import MongoClient\n",
    "\n",
    "client = MongoClient('localhost', 27017)\n",
    "\n",
    "def dump_data(path):    \n",
    "    files = [f for f in listdir(path) if isfile(join(path, f))]\n",
    "    if '.DS_Store' in files:\n",
    "        files.remove('.DS_Store')\n",
    "\n",
    "    for f in files:\n",
    "        file_name = join(path, f)\n",
    "        fp = open(file_name, 'r')\n",
    "        twitter_data = [line for line in fp.readlines()]\n",
    "        for data in twitter_data:\n",
    "            json_data = json.loads(data)\n",
    "            collection.insert_one(json_data)\n",
    "\n",
    "db = client.influencers_db\n",
    "collection = db.instagram_collection\n",
    "path = '/Users/manojkarthick/Documents/Spring-18/CMPT-733/Project/instagram-data/'\n",
    "\n",
    "dump_data(path)"
   ]
  },
  {
   "cell_type": "code",
   "execution_count": 12,
   "metadata": {
    "collapsed": true
   },
   "outputs": [],
   "source": [
    "# Generate needed CSV\n",
    "import csv\n",
    "import json\n",
    "from os import listdir\n",
    "from os.path import isfile, join\n",
    "\n",
    "path = 'keras-vgg-export'\n",
    "opath = 'keras-vgg-export/reformatted/'\n",
    "export_files = [f for f in listdir(path) if isfile(join(path, f)) and (not f.startswith('.'))]\n",
    "\n",
    "for export_file in export_files:\n",
    "    with open(join(opath,export_file), 'w') as f:\n",
    "        writer = csv.writer(f)\n",
    "        writer.writerow(('class_name', 'class_description', 'score', 'image', 'model'))\n",
    "        for line in open(join(path, export_file), 'r'):\n",
    "            json_array = json.loads(line)\n",
    "            for json_value in json_array:\n",
    "                class_name = json_value['class_name']\n",
    "                class_description = json_value['class_description']\n",
    "                score = json_value['score']\n",
    "                image = json_value['image']\n",
    "                model = json_value['model']\n",
    "                row = (class_name, class_description, score, image, model)\n",
    "                writer.writerow(row)"
   ]
  },
  {
   "cell_type": "code",
   "execution_count": null,
   "metadata": {
    "collapsed": true
   },
   "outputs": [],
   "source": [
    "from pymongo import MongoClient\n",
    "from os import listdir, makedirs\n",
    "from os.path import isfile, join, exists\n",
    "import pandas as pd\n",
    "\n",
    "\n",
    "# client = MongoClient('localhost', 27017)\n",
    "# db = client.influencers_db\n",
    "# collection = db.cv_collection\n",
    "\n",
    "path = '/Users/manojkarthick/Documents/Spring-18/CMPT-733/Project-733/fb-comments-data/'\n",
    "\n",
    "export_files = [f for f in listdir(path) if isfile(join(path, f)) and (not f.startswith('.'))]\n",
    "\n",
    "for export_file in export_files:\n",
    "    fname = join(path, export_file)\n",
    "    df = pd.read_json(fname, orient='records')\n",
    "    print(df.head())\n",
    "    break"
   ]
  },
  {
   "cell_type": "code",
   "execution_count": null,
   "metadata": {
    "collapsed": true
   },
   "outputs": [],
   "source": [
    "from pymongo import MongoClient\n",
    "from os import listdir, makedirs\n",
    "from os.path import isfile, join, exists\n",
    "import pandas as pd\n",
    "\n",
    "client = MongoClient('localhost', 27017)\n",
    "db = client.influencers_db\n",
    "collection = db.twitter_new_collection\n",
    "\n",
    "path = '/Users/manojkarthick/Documents/Spring-18/CMPT-733/Project-733/twitter-data-new/'\n",
    "\n",
    "export_files = [f for f in listdir(path) if isfile(join(path, f)) and (not f.startswith('.'))]\n",
    "\n",
    "for export_file in export_files:\n",
    "    fname = join(path, export_file)\n",
    "    df = pd.read_json(fname, lines=True)\n",
    "    records = df.to_dict(orient='records')\n",
    "    op = collection.insert_many(records)\n",
    "    print(op)"
   ]
  },
  {
   "cell_type": "code",
   "execution_count": 16,
   "metadata": {},
   "outputs": [
    {
     "name": "stdout",
     "output_type": "stream",
     "text": [
      "<pymongo.results.InsertManyResult object at 0x10c5cf048>\n"
     ]
    }
   ],
   "source": [
    "path = '/Users/manojkarthick/Documents/Spring-18/CMPT-733/Project-733/insta_followers_data.csv'\n",
    "igdf = pd.read_csv(path)\n",
    "\n",
    "collection = db.instagram_followers_collection\n",
    "\n",
    "records = igdf.to_dict(orient='records')\n",
    "op = collection.insert_many(records)\n",
    "print(op)"
   ]
  },
  {
   "cell_type": "code",
   "execution_count": 24,
   "metadata": {},
   "outputs": [
    {
     "name": "stdout",
     "output_type": "stream",
     "text": [
      "<pymongo.results.InsertManyResult object at 0x10ba431c8>\n"
     ]
    }
   ],
   "source": [
    "from pymongo import MongoClient\n",
    "from os import listdir, makedirs\n",
    "from os.path import isfile, join, exists\n",
    "import pandas as pd\n",
    "import json\n",
    "\n",
    "client = MongoClient('localhost', 27017)\n",
    "db = client.influencers_db\n",
    "collection = db.facebook_new_collection\n",
    "\n",
    "path = '/Users/manojkarthick/Documents/Spring-18/CMPT-733/Project-733/data_updated_comments_fb/'\n",
    "\n",
    "export_files = [f for f in listdir(path) if isfile(join(path, f)) and (not f.startswith('.'))]\n",
    "\n",
    "for export_file in export_files:\n",
    "    if export_file == 'MKBHD':\n",
    "        fname = join(path, export_file)\n",
    "        dataf = open(fname, 'r')\n",
    "        data=dataf.read().splitlines()\n",
    "        dataf.close()\n",
    "        js=[]\n",
    "\n",
    "        for d in data:\n",
    "            js.append(json.loads(d))\n",
    "        df=pd.DataFrame(js)\n",
    "\n",
    "    #     print(fname)\n",
    "    #     df = pd.read_json(fname, lines=True)\n",
    "        records = df.to_dict(orient='records')\n",
    "        op = collection.insert_many(records)\n",
    "        print(op)"
   ]
  },
  {
   "cell_type": "code",
   "execution_count": 33,
   "metadata": {},
   "outputs": [
    {
     "name": "stdout",
     "output_type": "stream",
     "text": [
      "Copying: abeautifulmess\n",
      "Copying: adventurouskate\n",
      "Copying: aimeesong\n",
      "Copying: AndroidAuth\n",
      "Copying: austinnotduncan\n",
      "Copying: BabyAriel\n",
      "Copying: beautylish\n",
      "Copying: blogilates\n",
      "Copying: brightbazaar\n",
      "Copying: bryanboy\n",
      "Copying: camerondallas\n",
      "Copying: chiaraferragni\n",
      "Copying: chrisburkard\n",
      "Copying: christendtweets\n",
      "Copying: cococozy\n",
      "Copying: copycatchic\n",
      "Copying: CupcakeAddictAU\n",
      "Copying: damonandjo\n",
      "Copying: dantdm\n",
      "Copying: Dave2Dtv\n",
      "Copying: designlovefest\n",
      "Copying: designsponge\n",
      "Copying: em_henderson\n",
      "Copying: fitmencook\n",
      "Copying: funforlouis\n",
      "Copying: gabifresh\n",
      "Copying: GalMeetsGlam\n",
      "Copying: GuyKawasaki\n",
      "Copying: harto\n",
      "Copying: hudabeauty\n",
      "Copying: iisuperwomanii\n",
      "Copying: ijustine\n",
      "Copying: imjennim\n",
      "Copying: inspiralized\n",
      "Copying: izyhossack\n",
      "Copying: Jack_Septic_Eye\n",
      "Copying: JeffreeStar\n",
      "Copying: jenjentrixie\n",
      "Copying: JenSelter\n",
      "Copying: JohnnyJet\n",
      "Copying: joythebaker\n",
      "Copying: kandeejohnson\n",
      "Copying: kayla_itsines\n",
      "Copying: kingbach\n",
      "Copying: ladolcevitablog\n",
      "Copying: lelepons\n",
      "Copying: LinusTech\n",
      "Copying: loganpaul\n",
      "Copying: LyzabethLopez\n",
      "Copying: mannymua733\n",
      "Copying: ManRepeller\n",
      "Copying: markiplier\n",
      "Copying: michelle_lewin\n",
      "Copying: michellephan\n",
      "Copying: MirandaSings\n",
      "Copying: missemilyskye\n",
      "Copying: MKBHD\n",
      "Copying: mrkatedotcom\n",
      "Copying: MuradOsmann\n",
      "Copying: nataliejillfit\n",
      "Copying: NatashasKitchen\n",
      "Copying: nicolettemason\n",
      "Copying: nikkietutorials\n",
      "Copying: OMGitsfirefoxx\n",
      "Copying: pewdiepie\n",
      "Copying: ProSyndicate\n",
      "Copying: RachelBrathen\n",
      "Copying: rosannapansino\n",
      "Copying: shanedawson\n",
      "Copying: SimeonPanda\n",
      "Copying: smittenkitchen\n",
      "Copying: sssniperwolf\n",
      "Copying: susiebubble\n",
      "Copying: sweetambs\n",
      "Copying: takahashimari\n",
      "Copying: TechnoBuffalo\n",
      "Copying: theblondeabroad\n",
      "Copying: thebodycoach\n",
      "Copying: theplanetd\n",
      "Copying: thepointsguy\n",
      "Copying: tldtoday\n",
      "Copying: TravelBabbo\n",
      "Copying: tyleroakley\n",
      "Copying: UnboxTherapy\n",
      "Copying: weworewhat\n",
      "Copying: xoShaaan\n",
      "Copying: yolanda_gampp\n",
      "Copying: zoella\n"
     ]
    }
   ],
   "source": [
    "from os.path import isdir\n",
    "from shutil import copyfile\n",
    "\n",
    "img_path = '/Users/manojkarthick/Documents/Spring-18/CMPT-733/Project-733/Web/flask-app/static/instagram-images'\n",
    "img_dirs = [f for f in listdir(img_path) if isdir(join(img_path, f)) and (not f.startswith('.'))]\n",
    "\n",
    "for img_dir in img_dirs:\n",
    "    abs_img_dir = join(img_path,img_dir)\n",
    "    img_files = [f for f in listdir(abs_img_dir) if isfile(join(abs_img_dir, f)) and (not f.startswith('.'))]\n",
    "    dest_dir = '/Users/manojkarthick/Documents/Spring-18/CMPT-733/Project-733/Web/flask-app/static/instagram-images-less/{}/'.format(img_dir)\n",
    "    makedirs(dest_dir)\n",
    "    count = 0\n",
    "    print(\"Copying: {}\".format(img_dir))\n",
    "    for img_file in img_files:\n",
    "        if count == 50:\n",
    "            break\n",
    "        src = join(abs_img_dir, img_file)\n",
    "        dst = dest_dir + img_file\n",
    "        copyfile(src, dst)\n",
    "\n",
    "        count += 1"
   ]
  }
 ],
 "metadata": {
  "kernelspec": {
   "display_name": "Python 3",
   "language": "python",
   "name": "python3"
  },
  "language_info": {
   "codemirror_mode": {
    "name": "ipython",
    "version": 3
   },
   "file_extension": ".py",
   "mimetype": "text/x-python",
   "name": "python",
   "nbconvert_exporter": "python",
   "pygments_lexer": "ipython3",
   "version": "3.6.3"
  }
 },
 "nbformat": 4,
 "nbformat_minor": 2
}
