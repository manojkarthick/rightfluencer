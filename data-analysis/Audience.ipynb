{
 "cells": [
  {
   "cell_type": "code",
   "execution_count": 38,
   "metadata": {},
   "outputs": [
    {
     "data": {
      "text/plain": [
       "1042"
      ]
     },
     "execution_count": 38,
     "metadata": {},
     "output_type": "execute_result"
    }
   ],
   "source": [
    "from bs4 import BeautifulSoup\n",
    "import requests\n",
    "import re\n",
    "\n",
    "page_content = requests.get(\"https://www.instagram.com/mkbhd/\").content\n",
    "soup = BeautifulSoup(page_content, 'html.parser')\n",
    "\n",
    "metas = soup.find_all('meta')\n",
    "description = [ meta.attrs['content'] for meta in metas if 'name' in meta.attrs and meta.attrs['name'] == 'description' ][0]\n",
    "numbers = re.findall(r'\\d+', description)\n",
    "int(description.split('-')[0].strip().split(' ')[-2].replace(',',''))"
   ]
  },
  {
   "cell_type": "code",
   "execution_count": 45,
   "metadata": {},
   "outputs": [
    {
     "name": "stdout",
     "output_type": "stream",
     "text": [
      "Empty DataFrame\n",
      "Columns: [tw_handle, ig_handle, ig_posts, ig_thumbnail_url]\n",
      "Index: []\n"
     ]
    }
   ],
   "source": [
    "from bs4 import BeautifulSoup\n",
    "import requests\n",
    "import re\n",
    "import pandas as pd\n",
    "import csv\n",
    "import json\n",
    "\n",
    "\n",
    "def get_handle(url):\n",
    "    splits = url.split('/')\n",
    "    if url:\n",
    "        if url.endswith('/'):\n",
    "            handle = splits[-2]\n",
    "        else:\n",
    "            handle = splits[-1]\n",
    "    else:\n",
    "        handle = None    \n",
    "    return handle\n",
    "        \n",
    "columns = ['tw_handle','ig_handle','ig_posts','ig_thumbnail_url']\n",
    "outdf = pd.DataFrame(columns=columns)\n",
    "\n",
    "print(outdf)\n",
    "df = pd.read_csv('influencer_list.csv')\n",
    "for index, row in df.iterrows():\n",
    "    influencer = row['Influencer']\n",
    "    category = row['Category']\n",
    "    twitter_url = row['Twitter']\n",
    "    twitter_handle = get_handle(twitter_url)\n",
    "    \n",
    "    instagram_url = row['Instagram']\n",
    "\n",
    "    if instagram_url != 'null':\n",
    "        instagram_handle = get_handle(instagram_url)\n",
    "        page_content = requests.get(instagram_url).content\n",
    "        soup = BeautifulSoup(page_content, 'html.parser')\n",
    "\n",
    "        metas = soup.find_all('meta')\n",
    "        description = [ meta.attrs['content'] for meta in metas if 'name' in meta.attrs and meta.attrs['name'] == 'description' ][0]\n",
    "        numbers = re.findall(r'\\d+', description)\n",
    "        num_posts = description.split('-')[0].strip().split(' ')[-2].replace(',','')\n",
    "        thumbnail_url = soup.find(\"meta\",  property=\"og:image\")['content']\n",
    "    else:\n",
    "        num_posts = 0\n",
    "    result_list = [twitter_handle, instagram_handle, num_posts, thumbnail_url]\n",
    "    outdf.loc[index] = result_list\n",
    "\n",
    "outdf.to_csv('instagram_posts_details.csv', sep=';', index=False)\n",
    "\n"
   ]
  },
  {
   "cell_type": "code",
   "execution_count": 48,
   "metadata": {},
   "outputs": [
    {
     "name": "stdout",
     "output_type": "stream",
     "text": [
      "<pymongo.results.InsertManyResult object at 0x10e4f2ac8>\n"
     ]
    }
   ],
   "source": [
    "from pymongo import MongoClient\n",
    "client = MongoClient('localhost', 27017)\n",
    "db = client.influencers_db\n",
    "\n",
    "path = '/Users/manojkarthick/Documents/Spring-18/CMPT-733/Project-733/instagram_posts_details.csv'\n",
    "igdf = pd.read_csv(path, sep=';')\n",
    "\n",
    "collection = db.instagram_posts_collection\n",
    "\n",
    "records = igdf.to_dict(orient='records')\n",
    "op = collection.insert_many(records)\n",
    "print(op)"
   ]
  }
 ],
 "metadata": {
  "kernelspec": {
   "display_name": "Python 3",
   "language": "python",
   "name": "python3"
  },
  "language_info": {
   "codemirror_mode": {
    "name": "ipython",
    "version": 3
   },
   "file_extension": ".py",
   "mimetype": "text/x-python",
   "name": "python",
   "nbconvert_exporter": "python",
   "pygments_lexer": "ipython3",
   "version": "3.6.3"
  }
 },
 "nbformat": 4,
 "nbformat_minor": 2
}
