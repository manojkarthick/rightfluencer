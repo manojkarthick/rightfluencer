{
 "cells": [
  {
   "cell_type": "code",
   "execution_count": 1,
   "metadata": {},
   "outputs": [],
   "source": [
    "import gensim\n",
    "import os\n",
    "import re\n",
    "import pandas as pd"
   ]
  },
  {
   "cell_type": "code",
   "execution_count": 7,
   "metadata": {},
   "outputs": [],
   "source": [
    "file_path='/home/karan/Karan/anaconda-workspace/python3-wokspace/CMPT733/My project folder/Cleaned-ext-archive/fb-cleaned-ext/beautylish/part-00000-0d0684df-fdca-46c3-80bc-9ac41867a8bc-c000.txt'\n",
    "#actual LDA procedure\n",
    "text_file = open(file_path, \"r\")\n",
    "lines = text_file.read().lower().split(\"\\n\")\n",
    "texts=[]\n",
    "for line in lines:\n",
    "    texts.append(line.split())\n",
    "    \n",
    "dictionary = gensim.corpora.Dictionary(texts)\n",
    "corpus = [dictionary.doc2bow(text) for text in texts]\n",
    "lda = gensim.models.ldamodel.LdaModel(corpus=corpus, id2word=dictionary, num_topics=10, update_every=1, chunksize=10000, passes=10)\n",
    "#print(lda.print_topics(num_topics=10, num_words=10))\n",
    "topics = lda.print_topics(10)\n",
    "\n",
    "all_topics = []\n",
    "all_prob = []\n",
    "    \n",
    "for topic in topics:\n",
    "    split_topic=\" \".join(topic[1].split(\"*\"))\n",
    "    split_topic=split_topic.split(\"+\")\n",
    "    \n",
    "    for t in split_topic:\n",
    "        prob,tp = t.split()\n",
    "        all_prob.append(prob)    \n",
    "        all_topics = all_topics + re.findall('\"([^\"]*)\"', tp)\n",
    "\n",
    "#lda.get_term_topics(\"travel\")\n",
    "        \n",
    "#for i in zip(all_topics,all_prob):\n",
    "#    print(i)"
   ]
  },
  {
   "cell_type": "code",
   "execution_count": 11,
   "metadata": {},
   "outputs": [
    {
     "name": "stderr",
     "output_type": "stream",
     "text": [
      "/home/karan/SDK_installations/anaconda3/lib/python3.6/site-packages/pyLDAvis/_prepare.py:387: DeprecationWarning: \n",
      ".ix is deprecated. Please use\n",
      ".loc for label based indexing or\n",
      ".iloc for positional indexing\n",
      "\n",
      "See the documentation here:\n",
      "http://pandas.pydata.org/pandas-docs/stable/indexing.html#ix-indexer-is-deprecated\n",
      "  topic_term_dists = topic_term_dists.ix[topic_order]\n"
     ]
    }
   ],
   "source": [
    "pyLDAvis.enable_notebook()\n",
    "import pyLDAvis.gensim\n",
    "\n",
    "lda_plot=pyLDAvis.gensim.prepare(lda, corpus, dictionary)\n",
    "pyLDAvis.save_html(lda_plot,fileobj=\"test\",template_type='general', visid=\"fb_test\")\n"
   ]
  },
  {
   "cell_type": "code",
   "execution_count": null,
   "metadata": {},
   "outputs": [],
   "source": []
  }
 ],
 "metadata": {
  "kernelspec": {
   "display_name": "Python 3",
   "language": "python",
   "name": "python3"
  },
  "language_info": {
   "codemirror_mode": {
    "name": "ipython",
    "version": 3
   },
   "file_extension": ".py",
   "mimetype": "text/x-python",
   "name": "python",
   "nbconvert_exporter": "python",
   "pygments_lexer": "ipython3",
   "version": "3.6.4"
  }
 },
 "nbformat": 4,
 "nbformat_minor": 2
}
