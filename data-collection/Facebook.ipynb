{
 "cells": [
  {
   "cell_type": "code",
   "execution_count": null,
   "metadata": {
    "collapsed": true
   },
   "outputs": [],
   "source": [
    "import json\n",
    "import pandas as pd\n",
    "from os import listdir\n",
    "from os.path import isfile, join\n",
    "\n",
    "path = '/Users/manojkarthick/Documents/Spring-18/CMPT-733/Project/facebook-data/'\n",
    "path_1 = '/Users/manojkarthick/Documents/Spring-18/CMPT-733/Project/facebook-data-json/'\n",
    "path_2 = '/Users/manojkarthick/Documents/Spring-18/CMPT-733/Project-733/facebook-data-json/'\n",
    "\n",
    "files = [f for f in listdir(path) if isfile(join(path, f))]\n",
    "\n",
    "for f in files:\n",
    "    df = pd.read_csv(join(path,f), sep=';')\n",
    "    outfile = open(join(path_1, f.replace('.csv','')), 'w')\n",
    "    print(join(path_1, f.replace('.csv','')))\n",
    "    for index, row in df.iterrows():\n",
    "        json_data = row.to_dict()\n",
    "        outfile.write(json.dumps(json_data))\n",
    "        outfile.write('\\n')"
   ]
  }
 ],
 "metadata": {
  "kernelspec": {
   "display_name": "Python 3",
   "language": "python",
   "name": "python3"
  },
  "language_info": {
   "codemirror_mode": {
    "name": "ipython",
    "version": 3
   },
   "file_extension": ".py",
   "mimetype": "text/x-python",
   "name": "python",
   "nbconvert_exporter": "python",
   "pygments_lexer": "ipython3",
   "version": "3.6.3"
  }
 },
 "nbformat": 4,
 "nbformat_minor": 2
}
